{
 "cells": [
  {
   "cell_type": "markdown",
   "id": "afa158e1-be9b-4c61-a0d7-f346af40fcd9",
   "metadata": {},
   "source": [
    "## Statistics 2780A - Statistical Inference ##\n",
    "## Fall 2024 #\n",
    "## Quiz 2 #\n",
    "November 20, 2024"
   ]
  },
  {
   "cell_type": "markdown",
   "id": "3675181b-f497-4f16-9d55-ecbeb6b826a8",
   "metadata": {},
   "source": [
    "The following R commands may be useful:\n",
    " - $\\texttt{qt(p, df)}$, where $\\texttt{df}$ is the number of degrees of freedom of a Student's $\\texttt{t}$ distribution and $\\texttt{p}$ is the probability.\n",
    " - $\\texttt{pt(q, df)}$, where $\\texttt{df}$ is the number of degrees of freedom of a Student's $\\texttt{t}$ distribution and $\\texttt{q}$ is the quantile.       \n",
    " - $\\texttt{qnorm(p)}$, where $\\texttt{p}$ is the probability.\n",
    " - $\\texttt{pnorm(q)}$, where $\\texttt{q}$ is the quantile.   \n",
    " - $\\texttt{t.test(x, y , alternative = c(\"two.sided\", \"less\", \"greater\"), mu = 0, paired = , var.equal = , conf.level =}1- \\alpha)$, where $\\texttt{paired}$ and $\\texttt{var.equal}$ take values $\\texttt{TRUE}$ or $\\texttt{FALSE}$.\n",
    " - To obtain the output of the $\\texttt{t.test}$, save the test in a new variable, i.e., $\\texttt{model <- t.test}(...)$ and use of the following commands:\n",
    "    - $\\texttt{model}\\$\\texttt{statistic[[1]]}$ =  value of the test statistic;\n",
    "    - $\\texttt{model}\\$\\texttt{parameter[[1]]}$ = number of degrees of freedom;\n",
    "    - $\\texttt{model}\\$\\texttt{p.value}$ = p-value of the test;\n",
    "    - $\\texttt{model}\\$\\texttt{conf.int[[1]]}$ = left endpoint of the confidence interval;\n",
    "    - $\\texttt{model}\\$\\texttt{conf.int[[2]]}$ = right endpoint of the confidence interval;\n",
    "    - $\\texttt{model}\\$\\texttt{estimate[[1]]}$ = estimate of the true mean of the population;\n",
    "    - $\\texttt{model}\\$\\texttt{null.value[[1]]}$ = null value of the hypothesis; \n",
    "    - $\\texttt{model}\\$\\texttt{stderr}$ = standard error (standard deviation) of the test;\n",
    "    - $\\texttt{model}\\$\\texttt{alternative}$ = alternative hypothesis;\n",
    "    - $\\texttt{model}\\$\\texttt{method}$ = the type of the t-test used.\n",
    "- To add text in your answer, use the symbol '#' in front of the text, e.g. $\\texttt{\\# The null hypothesis is ...}$. "
   ]
  },
  {
   "cell_type": "markdown",
   "id": "d5d406a9",
   "metadata": {},
   "source": [
    "## Problem 1 (11 points) ##"
   ]
  },
  {
   "cell_type": "markdown",
   "id": "039620b2",
   "metadata": {},
   "source": [
    "The commercial of a laundry detergent manufacturer claims that their new spot remover will remove more than 70% of the spots to which it is applied. To check the claim, the spot remover is applied to 50 randomly selected spots. We observe that only 38 of 50 spots are removed.    \n",
    "&nbsp;   \n",
    "**a)** Compute an estimate for the true proportion of spots removed.         \n",
    "&nbsp;    \n",
    "**b)** Could we conclude at the 5% level of significance that the commercial claim is wrong? To this end, compute the value of the test, determine the critical value and interpret the result.    \n",
    "&nbsp;   \n",
    "**c)** Justify the approximation to a normal distribution of the test statistic used in **b)**.    \n",
    "&nbsp;   \n",
    "**d)** Compute the p-value of the test. Round the result to 4 digits."
   ]
  },
  {
   "cell_type": "code",
   "execution_count": 54,
   "id": "2b7e3f81",
   "metadata": {
    "vscode": {
     "languageId": "r"
    }
   },
   "outputs": [],
   "source": [
    "# 1. a) Answer: "
   ]
  },
  {
   "cell_type": "code",
   "execution_count": 42,
   "id": "dc394637",
   "metadata": {
    "vscode": {
     "languageId": "r"
    }
   },
   "outputs": [],
   "source": [
    "# 1. b) Answer: "
   ]
  },
  {
   "cell_type": "code",
   "execution_count": 43,
   "id": "d6d609bb",
   "metadata": {
    "vscode": {
     "languageId": "r"
    }
   },
   "outputs": [],
   "source": [
    "# 1. c) Answer: "
   ]
  },
  {
   "cell_type": "code",
   "execution_count": 44,
   "id": "a4126c32",
   "metadata": {
    "vscode": {
     "languageId": "r"
    }
   },
   "outputs": [],
   "source": [
    "# 1. d) Answer: "
   ]
  },
  {
   "cell_type": "markdown",
   "id": "1c21ed21",
   "metadata": {},
   "source": [
    "## Problem 2 (9 points) ##"
   ]
  },
  {
   "cell_type": "markdown",
   "id": "4c2888be-269f-43f7-9e80-9a2036fc809e",
   "metadata": {},
   "source": [
    "Sales manager A approved the following loans during the past three months (in 1000 dollars):    \n",
    "&nbsp;            \n",
    "65.99, 67.62, 76.43, 69.10, 69.39, 77.21, 71.02, 62.51, 65.36, 66.55, 74.78, 70.52, 70.73, 69.30, 66.01, 77.56, 71.20, 59.05, 72.21, 66.42\n",
    "\n",
    "Assume that the loans can be modelled as realizations of i.i.d. normally distributed random variables. \n",
    "\n",
    "**a)** Estimate a 90% confidence interval for the expected value of the loans. Round the result to 4 digits.   \n",
    "&nbsp;   \n",
    "**b)** Does this data provide sufficient evidence (at the 10% level) to indicate that the expected value of the loans is different from 66.75? Use the estimated confidence interval in **a)** to test the hypothesis.          \n",
    "<br>\n",
    "Sales manager B approved loans over the same period of time with a sample mean $\\overline{y}_{25} = 71.72$ and sample standard deviation $s_y = 5.01$. We conduct a two-samples t-test with unequal variance to check whether the expected value of the loans approved by manager A is statistically smaller than the expected value of the loans approved by manager B at the 10% level and we obtain the value of the test $t = -1.546$.    \n",
    "&nbsp;   \n",
    "**c)** How many degrees of freedom (approximately) does the Student's t distribution of the test statistic have under the null hypothesis?   \n",
    "&nbsp;   \n",
    "**d)** Compute the p-value of the test. What is the conclusion of the test? Round the result to 4 digits. "
   ]
  },
  {
   "cell_type": "code",
   "execution_count": 46,
   "id": "48ae59d9",
   "metadata": {
    "vscode": {
     "languageId": "r"
    }
   },
   "outputs": [],
   "source": [
    "# 2. a) Answer:"
   ]
  },
  {
   "cell_type": "code",
   "execution_count": 48,
   "id": "27ca889d",
   "metadata": {
    "vscode": {
     "languageId": "r"
    }
   },
   "outputs": [],
   "source": [
    "# 2. b) Answer: "
   ]
  },
  {
   "cell_type": "code",
   "execution_count": 49,
   "id": "681fb48f",
   "metadata": {
    "vscode": {
     "languageId": "r"
    }
   },
   "outputs": [],
   "source": [
    "# 2. c) Answer: "
   ]
  },
  {
   "cell_type": "code",
   "execution_count": 50,
   "id": "2ffe6fd8",
   "metadata": {
    "vscode": {
     "languageId": "r"
    }
   },
   "outputs": [],
   "source": [
    "# 2. d) Answer: "
   ]
  },
  {
   "cell_type": "markdown",
   "id": "d82d4fb0-68fe-4f20-a990-3ce255f6be5a",
   "metadata": {},
   "source": [
    "## Problem 3 (10 points ) ##"
   ]
  },
  {
   "cell_type": "markdown",
   "id": "790edf19-fc02-4a71-afa3-3f9f40ddb2d2",
   "metadata": {},
   "source": [
    "\n",
    "Pesticide determinations were made on 16 standard units of soil at two laboratories, say A and B, with the results shown below: (mg/kg = milligrams/ kilogram).\n",
    "\n",
    "|  | 1 | 2 | 3 | 4 | 5 | 6 | 7 | 8 |\n",
    "| --- | --- | --- | --- | --- | --- | --- | --- | --- |\n",
    "| Laboratory A | 2.6 | 2.4 | 2.8 | 2.7 | 3.2 | 3.0 | 2.5 | 2.3 |\n",
    "| Laboratory B | 2.8 | 3.1 | 2.3 | 2.9 | 3.3 | 3.2 | 2.7 | 2.5 |\n",
    "\n",
    "Assume that the determinations are modelled by i.i.d. normally distributed random variables within each group (laboratories A and B) and the same variance for both groups. \n",
    "\n",
    "**a)** Compute the sample mean and sample standard deviation of the group A and B, respectively. Round the results to 4 digits.    \n",
    "&nbsp;   \n",
    "**b)** Test the hypothesis that the expected values of the results of the two laboratories are significantly different at the 5% level of significance. Display your result and comment on the conclusion of the test.    \n",
    "&nbsp;    \n",
    "**c)** What is the critical value of the test in **b)**? Round the result to 4 digits.    "
   ]
  },
  {
   "cell_type": "code",
   "execution_count": 51,
   "id": "423e2185-5e1d-4358-b668-d50e0afc6980",
   "metadata": {
    "vscode": {
     "languageId": "r"
    }
   },
   "outputs": [],
   "source": [
    "# 3. a) Answer: "
   ]
  },
  {
   "cell_type": "code",
   "execution_count": 52,
   "id": "d9e70691-75c3-4ce1-8b7f-3cf6e7d9a1aa",
   "metadata": {
    "vscode": {
     "languageId": "r"
    }
   },
   "outputs": [],
   "source": [
    "# 3. b) Answer: "
   ]
  },
  {
   "cell_type": "code",
   "execution_count": 53,
   "id": "72077e4b-6ce5-4a43-8702-fb03e772b512",
   "metadata": {
    "vscode": {
     "languageId": "r"
    }
   },
   "outputs": [],
   "source": [
    "# 3. c) Answer: "
   ]
  },
  {
   "cell_type": "markdown",
   "id": "3fc8d2f5-886a-4ff9-bfde-8485121bbc82",
   "metadata": {},
   "source": [
    "## You now need to upload your work to Crowdmark. \n",
    "\n",
    "You will need to make a pdf of your work here.\n",
    "\n",
    "You can use the print to pdf option in your browser. \n",
    "\n",
    "You can also use File>Download as >pdf via latex\n",
    "\n",
    "Please go to our Moodle page $STAT-2780-A-Statistical Inference$, find the section $Tutorial 10_Quiz_2$ and upload your pdf file via Crowdmark."
   ]
  },
  {
   "cell_type": "markdown",
   "id": "795d5e44-6e96-43f8-81c9-3d32433e51a9",
   "metadata": {},
   "source": []
  }
 ],
 "metadata": {
  "kernelspec": {
   "display_name": "R",
   "language": "R",
   "name": "ir"
  },
  "language_info": {
   "codemirror_mode": "r",
   "file_extension": ".r",
   "mimetype": "text/x-r-source",
   "name": "R",
   "pygments_lexer": "r",
   "version": "4.3.3"
  }
 },
 "nbformat": 4,
 "nbformat_minor": 5
}
